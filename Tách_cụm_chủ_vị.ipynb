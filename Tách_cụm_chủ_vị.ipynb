{
  "nbformat": 4,
  "nbformat_minor": 0,
  "metadata": {
    "colab": {
      "provenance": [],
      "collapsed_sections": [
        "lpATlqvFGyA-",
        "Kphynj9j46le",
        "qvqjw4eqFeUd"
      ],
      "include_colab_link": true
    },
    "kernelspec": {
      "name": "python3",
      "display_name": "Python 3"
    },
    "language_info": {
      "name": "python"
    }
  },
  "cells": [
    {
      "cell_type": "markdown",
      "metadata": {
        "id": "view-in-github",
        "colab_type": "text"
      },
      "source": [
        "<a href=\"https://colab.research.google.com/github/nguyen-brat/Devide-Subject-and-predicate/blob/main/T%C3%A1ch_c%E1%BB%A5m_ch%E1%BB%A7_v%E1%BB%8B.ipynb\" target=\"_parent\"><img src=\"https://colab.research.google.com/assets/colab-badge.svg\" alt=\"Open In Colab\"/></a>"
      ]
    },
    {
      "cell_type": "markdown",
      "source": [
        "## Start"
      ],
      "metadata": {
        "id": "lpATlqvFGyA-"
      }
    },
    {
      "cell_type": "code",
      "source": [
        "!pip install phonlp\n",
        "!pip install py_vncorenlp\n"
      ],
      "metadata": {
        "id": "NJPQq4QUp8Bn",
        "colab": {
          "base_uri": "https://localhost:8080/"
        },
        "outputId": "ee9e0d3d-8c04-45ea-c093-2320af59eb2f"
      },
      "execution_count": null,
      "outputs": [
        {
          "output_type": "stream",
          "name": "stdout",
          "text": [
            "Looking in indexes: https://pypi.org/simple, https://us-python.pkg.dev/colab-wheels/public/simple/\n",
            "Requirement already satisfied: phonlp in /usr/local/lib/python3.7/dist-packages (0.3.4)\n",
            "Requirement already satisfied: tqdm in /usr/local/lib/python3.7/dist-packages (from phonlp) (4.64.1)\n",
            "Requirement already satisfied: gdown>=3.12.2 in /usr/local/lib/python3.7/dist-packages (from phonlp) (4.4.0)\n",
            "Requirement already satisfied: numpy in /usr/local/lib/python3.7/dist-packages (from phonlp) (1.21.6)\n",
            "Requirement already satisfied: torch>=1.4.0 in /usr/local/lib/python3.7/dist-packages (from phonlp) (1.12.1+cu113)\n",
            "Requirement already satisfied: transformers>=3.2.0 in /usr/local/lib/python3.7/dist-packages (from phonlp) (4.24.0)\n",
            "Requirement already satisfied: pytest in /usr/local/lib/python3.7/dist-packages (from phonlp) (3.6.4)\n",
            "Requirement already satisfied: filelock in /usr/local/lib/python3.7/dist-packages (from gdown>=3.12.2->phonlp) (3.8.0)\n",
            "Requirement already satisfied: beautifulsoup4 in /usr/local/lib/python3.7/dist-packages (from gdown>=3.12.2->phonlp) (4.6.3)\n",
            "Requirement already satisfied: requests[socks] in /usr/local/lib/python3.7/dist-packages (from gdown>=3.12.2->phonlp) (2.23.0)\n",
            "Requirement already satisfied: six in /usr/local/lib/python3.7/dist-packages (from gdown>=3.12.2->phonlp) (1.15.0)\n",
            "Requirement already satisfied: typing-extensions in /usr/local/lib/python3.7/dist-packages (from torch>=1.4.0->phonlp) (4.1.1)\n",
            "Requirement already satisfied: regex!=2019.12.17 in /usr/local/lib/python3.7/dist-packages (from transformers>=3.2.0->phonlp) (2022.6.2)\n",
            "Requirement already satisfied: packaging>=20.0 in /usr/local/lib/python3.7/dist-packages (from transformers>=3.2.0->phonlp) (21.3)\n",
            "Requirement already satisfied: huggingface-hub<1.0,>=0.10.0 in /usr/local/lib/python3.7/dist-packages (from transformers>=3.2.0->phonlp) (0.11.0)\n",
            "Requirement already satisfied: importlib-metadata in /usr/local/lib/python3.7/dist-packages (from transformers>=3.2.0->phonlp) (4.13.0)\n",
            "Requirement already satisfied: tokenizers!=0.11.3,<0.14,>=0.11.1 in /usr/local/lib/python3.7/dist-packages (from transformers>=3.2.0->phonlp) (0.13.2)\n",
            "Requirement already satisfied: pyyaml>=5.1 in /usr/local/lib/python3.7/dist-packages (from transformers>=3.2.0->phonlp) (6.0)\n",
            "Requirement already satisfied: pyparsing!=3.0.5,>=2.0.2 in /usr/local/lib/python3.7/dist-packages (from packaging>=20.0->transformers>=3.2.0->phonlp) (3.0.9)\n",
            "Requirement already satisfied: zipp>=0.5 in /usr/local/lib/python3.7/dist-packages (from importlib-metadata->transformers>=3.2.0->phonlp) (3.10.0)\n",
            "Requirement already satisfied: setuptools in /usr/local/lib/python3.7/dist-packages (from pytest->phonlp) (57.4.0)\n",
            "Requirement already satisfied: py>=1.5.0 in /usr/local/lib/python3.7/dist-packages (from pytest->phonlp) (1.11.0)\n",
            "Requirement already satisfied: atomicwrites>=1.0 in /usr/local/lib/python3.7/dist-packages (from pytest->phonlp) (1.4.1)\n",
            "Requirement already satisfied: attrs>=17.4.0 in /usr/local/lib/python3.7/dist-packages (from pytest->phonlp) (22.1.0)\n",
            "Requirement already satisfied: pluggy<0.8,>=0.5 in /usr/local/lib/python3.7/dist-packages (from pytest->phonlp) (0.7.1)\n",
            "Requirement already satisfied: more-itertools>=4.0.0 in /usr/local/lib/python3.7/dist-packages (from pytest->phonlp) (9.0.0)\n",
            "Requirement already satisfied: idna<3,>=2.5 in /usr/local/lib/python3.7/dist-packages (from requests[socks]->gdown>=3.12.2->phonlp) (2.10)\n",
            "Requirement already satisfied: chardet<4,>=3.0.2 in /usr/local/lib/python3.7/dist-packages (from requests[socks]->gdown>=3.12.2->phonlp) (3.0.4)\n",
            "Requirement already satisfied: certifi>=2017.4.17 in /usr/local/lib/python3.7/dist-packages (from requests[socks]->gdown>=3.12.2->phonlp) (2022.9.24)\n",
            "Requirement already satisfied: urllib3!=1.25.0,!=1.25.1,<1.26,>=1.21.1 in /usr/local/lib/python3.7/dist-packages (from requests[socks]->gdown>=3.12.2->phonlp) (1.24.3)\n",
            "Requirement already satisfied: PySocks!=1.5.7,>=1.5.6 in /usr/local/lib/python3.7/dist-packages (from requests[socks]->gdown>=3.12.2->phonlp) (1.7.1)\n",
            "Looking in indexes: https://pypi.org/simple, https://us-python.pkg.dev/colab-wheels/public/simple/\n",
            "Requirement already satisfied: py_vncorenlp in /usr/local/lib/python3.7/dist-packages (0.1.3)\n",
            "Requirement already satisfied: pyjnius in /usr/local/lib/python3.7/dist-packages (from py_vncorenlp) (1.4.2)\n",
            "Requirement already satisfied: six>=1.7.0 in /usr/local/lib/python3.7/dist-packages (from pyjnius->py_vncorenlp) (1.15.0)\n"
          ]
        }
      ]
    },
    {
      "cell_type": "code",
      "source": [
        "import py_vncorenlp\n",
        "import os\n",
        "file_root = \"/content/vncorenlp\"\n",
        "if not os.path.exists(file_root):\n",
        "  os.makedirs(file_root, exist_ok=True)\n",
        "\n",
        "py_vncorenlp.download_model(save_dir='/content/vncorenlp')\n",
        "\n",
        "# Load VnCoreNLP for word and sentence segmentation\n",
        "rdrsegmenter = py_vncorenlp.VnCoreNLP(annotators=[\"wseg\"], save_dir='/content/vncorenlp')"
      ],
      "metadata": {
        "id": "xy6U7OuYq6gF"
      },
      "execution_count": null,
      "outputs": []
    },
    {
      "cell_type": "code",
      "source": [
        "print(rdrsegmenter.word_segment(\"Tôi đang làm việc tại đại học Bách Khoa Hồ Chí Minh, và chị tôi đang học tại đại học y tế cộng đồng\"))"
      ],
      "metadata": {
        "colab": {
          "base_uri": "https://localhost:8080/"
        },
        "id": "SwerdjMUrcvn",
        "outputId": "ea9e9b46-2246-4f01-b385-96d7e4e8df5b"
      },
      "execution_count": null,
      "outputs": [
        {
          "output_type": "stream",
          "name": "stdout",
          "text": [
            "['Tôi đang làm_việc tại đại_học Bách_Khoa Hồ_Chí_Minh , và chị tôi đang học tại đại_học y_tế cộng_đồng']\n"
          ]
        }
      ]
    },
    {
      "cell_type": "code",
      "source": [
        "def word_segment(text):\n",
        "    return rdrsegmenter.word_segment(text)[0]"
      ],
      "metadata": {
        "id": "Joy5OY8orm2y"
      },
      "execution_count": null,
      "outputs": []
    },
    {
      "cell_type": "code",
      "execution_count": null,
      "metadata": {
        "id": "f33uLaYfpv2v",
        "colab": {
          "base_uri": "https://localhost:8080/"
        },
        "outputId": "072fe7c7-e87a-43c3-b54f-3e6d156f2684"
      },
      "outputs": [
        {
          "output_type": "stream",
          "name": "stderr",
          "text": [
            "Downloading...\n",
            "From: https://public.vinai.io/phonlp.pt\n",
            "To: /content/phonlp_pretrained/phonlp.pt\n",
            "100%|██████████| 582M/582M [00:03<00:00, 193MB/s]\n"
          ]
        },
        {
          "output_type": "stream",
          "name": "stdout",
          "text": [
            "Loading model from: /content/phonlp_pretrained/phonlp.pt\n"
          ]
        },
        {
          "output_type": "stream",
          "name": "stderr",
          "text": [
            "Special tokens have been added in the vocabulary, make sure the associated word embeddings are fine-tuned or trained.\n"
          ]
        }
      ],
      "source": [
        "import phonlp\n",
        "\n",
        "phonlp.download(save_dir='/content/phonlp_pretrained')\n",
        "\n",
        "# Load the trained PhoNLP model\n",
        "model = phonlp.load(save_dir='/content/phonlp_pretrained')"
      ]
    },
    {
      "cell_type": "code",
      "source": [
        "print(word_segment(\"Tôi đang làm việc tại đại học bách khoa hồ chí minh .\"))\n",
        "model.print_out(model.annotate(text=word_segment(\"Tôi đang làm việc tại đại học Bách Khoa Hồ Chí Minh .\")))"
      ],
      "metadata": {
        "id": "W4EjypmGqEox"
      },
      "execution_count": null,
      "outputs": []
    },
    {
      "cell_type": "code",
      "source": [
        "from typing import List\n",
        "\n",
        "class Word:\n",
        "    def __init__(self, form: str, index: int, posTag: str, nerLabel: str, depLabel: str, head=None, parent=None, children=None):\n",
        "        self.text = form\n",
        "        self.pos_tag = posTag\n",
        "        self.index = index\n",
        "        self.head = head\n",
        "        self.parent = parent\n",
        "        self.ner_label = nerLabel\n",
        "        self.dep_label = depLabel\n",
        "        self.children = children if children is not None else []\n",
        "\n",
        "    @property\n",
        "    def all_children(self):\n",
        "        if len(self.children) > 0:\n",
        "            output = [child for child in self.children]\n",
        "            output.append(self)\n",
        "            for child in self.children:\n",
        "                output += child.all_children\n",
        "            output = list(set(output))\n",
        "            output.sort(key=lambda item: item.index)\n",
        "            return output\n",
        "        else:\n",
        "            return [self]\n",
        "\n",
        "    @property\n",
        "    def is_noun(self):\n",
        "        return self.pos_tag.startswith(\"N\")\n",
        "\n",
        "    @property\n",
        "    def is_verb(self):\n",
        "        return self.pos_tag.startswith(\"V\")\n",
        "\n",
        "\n",
        "\n",
        "class Sentence:\n",
        "    def __init__(self, words: List[Word]):\n",
        "        self.words = words\n",
        "        self.root = None\n",
        "        self._phrases = None\n",
        "        self.build_tree()\n",
        "        self.build_phrase_tree()\n",
        "    \n",
        "    def build_tree(self):\n",
        "        word_dict = {word.index: word for word in self.words}\n",
        "        for word in self.words:\n",
        "            if word.head == 0:\n",
        "                self.root = word\n",
        "            else:\n",
        "                parent = word_dict[word.head]\n",
        "                word.parent = parent\n",
        "                parent.children.append(word)\n",
        "\n",
        "    def build_phrase_tree(self):\n",
        "        phrase_dict = {phrase.root.index: phrase for phrase in self.phrases}\n",
        "        for phrase in self.phrases:\n",
        "            for other_phrase in self.phrases:\n",
        "                if phrase.contains(other_phrase):\n",
        "                    phrase.children.append(other_phrase)\n",
        "                    if other_phrase.parent is None:\n",
        "                        other_phrase.parent = phrase\n",
        "                    elif other_phrase.parent.contains(phrase):\n",
        "                        other_phrase.parent.children.remove(other_phrase)\n",
        "                        other_phrase.parent = phrase\n",
        "            if len(phrase.children) > 0:\n",
        "                phrase.children.sort(key=lambda item: item.root.index)\n",
        "\n",
        "    @property\n",
        "    def text(self):\n",
        "        return \" \".join([word.text for word in self.words])\n",
        "    \n",
        "    @property\n",
        "    def phrases(self):\n",
        "        if self._phrases is None:\n",
        "            output = []\n",
        "            for word in self.words:\n",
        "                output.append(Phrase(word.all_children, word))\n",
        "            self._phrases = output\n",
        "        return self._phrases\n",
        "\n",
        "    @property\n",
        "    def noun_phrases(self):\n",
        "        return [phrase for phrase in self.phrases if phrase.is_noun_phrase]\n",
        "    \n",
        "    @property\n",
        "    def verb_phrases(self):\n",
        "        return [phrase for phrase in self.phrases if phrase.is_verd_phrase]\n",
        "\n",
        "    def __str__(self):\n",
        "        return self.text\n",
        "\n",
        "\n",
        "class Phrase(Sentence):\n",
        "    def __init__(self, words: List[Word], root: Word):\n",
        "        super(Phrase, self).__init__(words)\n",
        "        self.words = words\n",
        "        self.root = root\n",
        "        self.children = []\n",
        "        self.parent = None\n",
        "    \n",
        "    def contains(self, other):\n",
        "        if isinstance(other, Phrase):\n",
        "            return other.root != self.root and other.root in self.words\n",
        "        elif isinstance(other, Word):\n",
        "            return other in self.words\n",
        "        return False \n",
        "        \n",
        "    def build_tree(self):\n",
        "        pass\n",
        "\n",
        "    def build_phrase_tree(self):\n",
        "        pass\n",
        "    \n",
        "    @property\n",
        "    def is_noun_phrase(self):\n",
        "        return self.root.is_noun\n",
        "    \n",
        "    @property\n",
        "    def is_verd_phrase(self):\n",
        "        return self.root.is_verb\n",
        "\n",
        "    @property\n",
        "    def pos_tag(self):\n",
        "        return self.root.pos_tag\n",
        "\n",
        "    @property\n",
        "    def dep_label(self):\n",
        "        return self.root.dep_label\n",
        "\n",
        "    @property\n",
        "    def subject_phrase(self):\n",
        "        phrases = [p for p in self.children if p.dep_label == \"sub\"]\n",
        "        if len(phrases) > 0:\n",
        "            return phrases[0]\n",
        "        elif len(self.children) == 2:\n",
        "            return self.children[0]\n",
        "        return None \n",
        "    \n",
        "    @property\n",
        "    def object_phrase(self):\n",
        "        phrases = [p for p in self.children if p.dep_label == \"dob\"]\n",
        "        if len(phrases) > 0:\n",
        "            return phrases[0]\n",
        "        elif len(self.children) == 2:\n",
        "            return self.children[-1]\n",
        "        return None \n"
      ],
      "metadata": {
        "id": "t7JiYztHqe3t"
      },
      "execution_count": null,
      "outputs": []
    },
    {
      "cell_type": "markdown",
      "source": [
        "Annotator Class"
      ],
      "metadata": {
        "id": "HvQMsXP-r_o4"
      }
    },
    {
      "cell_type": "code",
      "source": [
        "# class Annotator:\n",
        "#     def __init__(self):\n",
        "#         self.model = phonlp.load(save_dir='/content/phonlp_pretrained')\n",
        "    \n",
        "#     '''@staticmethod'''\n",
        "#     def word_segment(text):\n",
        "#         return rdrsegmenter.word_segment(text)[0]\n",
        "\n",
        "#     def __call__(self, text):\n",
        "#         words, postags, nertags, deptags = self.model.annotate(text=word_segment(text))\n",
        "#         words = words[0]\n",
        "#         postags = postags[0]\n",
        "#         nertags = nertags[0]\n",
        "#         deptags = deptags[0]\n",
        "#         word_output = []\n",
        "#         for i, (word, pos, ner, dep) in enumerate(zip(words, postags, nertags, deptags)):\n",
        "#             word_output.append(Word(form=word, index=i+1, posTag=pos[0], nerLabel=ner[0], depLabel=dep[-1], head=int(dep[0]), parent=None, children=None))\n",
        "#         sentence = Sentence(word_output)\n",
        "#         return sentence"
      ],
      "metadata": {
        "id": "MzKOVeYrr_OS"
      },
      "execution_count": null,
      "outputs": []
    },
    {
      "cell_type": "code",
      "source": [
        "##############\n",
        "# vui ve\n",
        "#############\n",
        "class Annotator:\n",
        "    def __init__(self):\n",
        "        self.model = phonlp.load(save_dir='/content/phonlp_pretrained')\n",
        "\n",
        "    def __call__(self, text):\n",
        "        list_sen = []\n",
        "        for txt in rdrsegmenter.word_segment(text):\n",
        "          words, postags, nertags, deptags = self.model.annotate(text= txt)\n",
        "          words = words[0]\n",
        "          postags = postags[0]\n",
        "          nertags = nertags[0]\n",
        "          deptags = deptags[0]\n",
        "          word_output = []\n",
        "          for i, (word, pos, ner, dep) in enumerate(zip(words, postags, nertags, deptags)):\n",
        "              word_output.append(Word(form=word, index=i+1, posTag=pos[0], nerLabel=ner[0], depLabel=dep[-1], head=int(dep[0]), parent=None, children=None))\n",
        "          sentence = Sentence(word_output)\n",
        "          list_sen.append(sentence)\n",
        "        return list_sen"
      ],
      "metadata": {
        "id": "PzQx_7LZtskJ"
      },
      "execution_count": null,
      "outputs": []
    },
    {
      "cell_type": "code",
      "source": [
        "!wget https://raw.githubusercontent.com/PhamNguyen97/BARTViBa/main/data/all/train.vi -O /content/train.text\n",
        "!wget https://raw.githubusercontent.com/PhamNguyen97/BARTViBa/main/data/all/valid.vi -O /content/valid.text\n",
        "!wget https://raw.githubusercontent.com/PhamNguyen97/BARTViBa/main/data/all/test.vi -O /content/test.text"
      ],
      "metadata": {
        "id": "0bVwCmLnud8y"
      },
      "execution_count": null,
      "outputs": []
    },
    {
      "cell_type": "code",
      "source": [
        "parser = Annotator()"
      ],
      "metadata": {
        "id": "LWCRdsc6ubX-",
        "colab": {
          "base_uri": "https://localhost:8080/"
        },
        "outputId": "2a2198b8-779e-47af-d170-af449e41d937"
      },
      "execution_count": null,
      "outputs": [
        {
          "output_type": "stream",
          "name": "stdout",
          "text": [
            "Loading model from: /content/phonlp_pretrained/phonlp.pt\n"
          ]
        },
        {
          "output_type": "stream",
          "name": "stderr",
          "text": [
            "Special tokens have been added in the vocabulary, make sure the associated word embeddings are fine-tuned or trained.\n"
          ]
        }
      ]
    },
    {
      "cell_type": "code",
      "source": [
        "sentences = parser(\"Cách mạng tháng tám thành công đã mở ra bước ngoặc lớn. Nó đã mở sự tự do cho dân tộc\")\n",
        "#print(sentences)\n",
        "# for phrase in sentence.phrases:\n",
        "#     print(phrase.text, \">>>\",phrase.root.text, \">>>\", phrase.root.pos_tag,\">>>\" , [p.text for p in phrase.children])\n",
        "\n",
        "# for phrase in sentence.verb_phrases:\n",
        "#     print(\"________\", phrase.root.text)\n",
        "#     print(\"POSTAG\", phrase.pos_tag)\n",
        "#     print(\"TEXT\", phrase.text)\n",
        "#     print(\"SUBJECT\", phrase.subject_phrase)\n",
        "#     print(\"OBJECT\", phrase.object_phrase)"
      ],
      "metadata": {
        "id": "U1yWRAQ_r8wd",
        "colab": {
          "base_uri": "https://localhost:8080/"
        },
        "outputId": "ed4b8793-cdef-4b5f-8f85-e8aacc7a4241"
      },
      "execution_count": null,
      "outputs": [
        {
          "output_type": "stream",
          "name": "stderr",
          "text": [
            "100%|██████████| 1/1 [00:00<00:00,  2.23it/s]\n",
            "100%|██████████| 1/1 [00:00<00:00,  4.67it/s]\n"
          ]
        }
      ]
    },
    {
      "cell_type": "code",
      "source": [
        "# https://github.com/NTT123/viwik18/tree/viwik19/dataset"
      ],
      "metadata": {
        "id": "Fm91OsrmykCl"
      },
      "execution_count": null,
      "outputs": []
    },
    {
      "cell_type": "markdown",
      "source": [
        "## Bắt đầu làm"
      ],
      "metadata": {
        "id": "Kphynj9j46le"
      }
    },
    {
      "cell_type": "code",
      "source": [
        "word_before_predicate = ['vừa', 'đã', 'đang', 'sẽ','sắp', 'mới', 'chỉ', 'cũng', 'thì', 'mà', 'là', 'không' ,'chẳng' ,'chả', 'có' ,'chưa',\n",
        "                        'vẫn', 'đều', 'lại', 'cứ' ,'chỉ', 'đừng' ,'chớ' ,'hãy' ,'phải' ,'cần', 'nên', 'rất' ,'hơi' ,'quá', 'thường',\n",
        "                        'hay', 'năng', 'ít', 'hiếm', 'ít khi', 'thỉnh thoảng', 'luôn', 'luôn luôn']"
      ],
      "metadata": {
        "id": "9OTKZ8oSWMJ8"
      },
      "execution_count": null,
      "outputs": []
    },
    {
      "cell_type": "code",
      "source": [
        "######################\n",
        "# vui vẻ là chính\n",
        "#####################\n",
        "def help_count(sentence: str)->int:\n",
        "  list_sub_predicate = []\n",
        "  num_subj = 0\n",
        "  dictionary = {}\n",
        "  num_verb = 0\n",
        "  if (len(sentence) == 0):\n",
        "    return 0, {0:1}, 1, []\n",
        "  sentences = parser(sentence)\n",
        "  for sentence in sentences:\n",
        "    num_sub = 0\n",
        "    for word in sentence.words:\n",
        "        if word.dep_label == 'sub':\n",
        "          num_sub += 1\n",
        "        if word.pos_tag == 'V':\n",
        "          num_verb += 1\n",
        "    if num_sub > 0:\n",
        "      if 1 in list(dictionary.keys()):\n",
        "        dictionary[1] += 1\n",
        "      else:\n",
        "        dictionary[1] = 1\n",
        "      num_sub = 0\n",
        "      # for word in sentence.root.children:\n",
        "      #   print(word.text, word.pos_tag)\n",
        "      # cấu trúc câu tổng quát lúc này là S + V + Predicate(nếu có) + (từ nối/,)(nếu có) + mệnh đề 2 (nếu có) +...+ mệnh đề n (nếu có)\n",
        "      list_boundary = []\n",
        "      for child in sentence.root.children:\n",
        "        child_label = child.dep_label\n",
        "        if (child_label == 'punct') | (child_label == 'coord'):\n",
        "          list_boundary.append(child.index)\n",
        "      list_boundary = [i for i in list_boundary]\n",
        "      boundary = len(sentence.words) + 1\n",
        "      list_boundary.sort()\n",
        "      if len(list_boundary)>0:\n",
        "        boundary = list_boundary[0]\n",
        "      # print(f'list boundary: {list_boundary}')\n",
        "\n",
        "      # nếu trong mệnh đề đầu tiên nếu có chủ ngữ thì num_sub + 1\n",
        "      sen = []\n",
        "      list_sub = []\n",
        "      add = 0\n",
        "      for word in sentence.words[:boundary - 1]:\n",
        "        sen.append(word.text.replace('_', ' '))\n",
        "        if word.dep_label == 'sub':\n",
        "          list_sub.append(word.index)\n",
        "          add += 1\n",
        "      first_clause = ' '.join(sen)\n",
        "      # nếu câu không có thành phần ghép đẳng lập\n",
        "      if (add > 0) & (len(list_boundary) == 0):\n",
        "        if list_sub[0] < sentence.root.index:\n",
        "          num_sub += 1\n",
        "          previous_word = sentence.words[sentence.root.index - 2]\n",
        "          if previous_word.text.replace('_', ' ') in word_before_predicate:\n",
        "            predicate_list = sentence.words[sentence.root.index - 2 : boundary - 1]\n",
        "            sub_list = sentence.words[:sentence.root.index - 2]\n",
        "          else:\n",
        "            predicate_list = sentence.words[sentence.root.index - 1: boundary - 1]\n",
        "            sub_list = sentence.words[:sentence.root.index - 1]\n",
        "          list_sub_predicate.append(['Mệnh đề chính là: ' + ' '.join(sen) + ' || chủ ngữ là: ' + ' '.join([word.text.replace('_', ' ') for word in sub_list]) +\n",
        "                  ' || vị ngữ là: ' + ' '.join([word.text.replace('_', ' ')  for word in predicate_list])])\n",
        "          ## find extra clause in sub\n",
        "          sub_start = 0\n",
        "          for i, word in enumerate(sub_list):\n",
        "            if (word.pos_tag == 'N') | (word.pos_tag == 'Np'):\n",
        "              sub_start = i\n",
        "              break;\n",
        "          pre_start = 0\n",
        "          for i, word in enumerate(predicate_list):\n",
        "            if (word.pos_tag == 'N') | (word.pos_tag == 'Np'):\n",
        "              pre_start = i\n",
        "              break\n",
        "          extra_clause_sub_list = sub_list[sub_start:]\n",
        "          extra_clause_sub = ' '.join([word.text.replace('_', ' ') for word in extra_clause_sub_list])\n",
        "          extra_clause_pre_list = predicate_list[pre_start:]\n",
        "          extra_clause_pre = ' '.join([word.text.replace('_', ' ') for word in extra_clause_pre_list])\n",
        "          #print(extra_clause_sub) ################\n",
        "          result, dic, _, clause = help_count(extra_clause_sub)\n",
        "          list_sub_predicate += clause\n",
        "          num_sub += result\n",
        "          for key in dic:\n",
        "            if key != 0:\n",
        "              if (key+1) in dictionary:\n",
        "                dictionary[key+1] += dic[key]\n",
        "              else:\n",
        "                dictionary[key+1] = dic[key]\n",
        "          #print(extra_clause_pre) ################\n",
        "          result, dic, _, clause = help_count(extra_clause_pre)\n",
        "          list_sub_predicate += clause\n",
        "          num_sub += result\n",
        "          for key in dic:\n",
        "            if key != 0:\n",
        "              if (key+1) in dictionary:\n",
        "                dictionary[key+1] += dic[key]\n",
        "              else:\n",
        "                dictionary[key+1] = dic[key]\n",
        "        ## root index is 1\n",
        "        else:\n",
        "          first_sub = list_sub[0]\n",
        "          sub_sentence = ' '.join([word.text.replace('_', ' ') for word in sentence.words[first_sub-1:boundary - 1]])\n",
        "          #print(sub_sentence) ###############\n",
        "          result, dic, _, clause = help_count(sub_sentence)\n",
        "          list_sub_predicate += clause\n",
        "          num_sub += result\n",
        "          for key in dic:\n",
        "            if key != 0:\n",
        "              if (key+1) in dictionary:\n",
        "                dictionary[key+1] += dic[key]\n",
        "              else:\n",
        "                dictionary[key+1] = dic[key]\n",
        "      # nếu câu không là câu đơn thì đề quy lại mệnh đề thứ nhất\n",
        "      else:\n",
        "        result, dic, _, clause = help_count(first_clause)\n",
        "        list_sub_predicate += clause\n",
        "        num_sub += result\n",
        "        for key in dic:\n",
        "          if key != 0:\n",
        "            if (key+1) in dictionary:\n",
        "              dictionary[key+1] += dic[key]\n",
        "            else:\n",
        "              dictionary[key+1] = dic[key]\n",
        "      \n",
        "      # nếu câu có từ nối hoặc dấu nối\n",
        "      if len(list_boundary)>0:\n",
        "        #print(f'boundary: {boundary}') ######################\n",
        "        # nếu câu là câu ghép cộng đệ quy những mệnh đề lại bằng hàm help_count\n",
        "        for i, bound in enumerate(list_boundary[:-1]):\n",
        "          if list_boundary[i] + 1 != list_boundary[i+1]:\n",
        "            start_idx = bound\n",
        "            end_idx = list_boundary[i+1] - 1\n",
        "            list_word_sentence = [word.text.replace('_', ' ') for word in sentence.words[start_idx: end_idx]]\n",
        "            string = ' '.join(list_word_sentence)\n",
        "            #print(string) ##################\n",
        "            #print(f'mệnh đề khác: {string}') ################################\n",
        "            result, dic, _, clause = help_count(string)\n",
        "            list_sub_predicate += clause\n",
        "            num_sub += result\n",
        "            for key in dic:\n",
        "              if key != 0:\n",
        "                if (key+1) in dictionary:\n",
        "                  dictionary[key+1] += dic[key]\n",
        "                else:\n",
        "                  dictionary[key+1] = dic[key]\n",
        "\n",
        "        if list_boundary[-1] < sentence.words[-1].index - 1:\n",
        "          start_idx = list_boundary[-1]\n",
        "          list_word_sentence = [word.text.replace('_', ' ') for word in sentence.words[start_idx:]]\n",
        "          string = ' '.join(list_word_sentence)\n",
        "          #print(f'mệnh đề khác: {string}') #####################################\n",
        "          result, dic, _, clause = help_count(string)\n",
        "          list_sub_predicate += clause\n",
        "          num_sub += result\n",
        "          for key in dic:\n",
        "            if key != 0:\n",
        "              if (key+1) in dictionary:\n",
        "                dictionary[key+1] += dic[key]\n",
        "              else:\n",
        "                dictionary[key+1] = dic[key]\n",
        "\n",
        "    num_subj += num_sub\n",
        "  if num_subj == 0:\n",
        "    return 0, {0:1}, num_verb, []\n",
        "  else:\n",
        "    return num_subj, dictionary, num_verb, list_sub_predicate"
      ],
      "metadata": {
        "id": "z-t-6D0fV3_m"
      },
      "execution_count": null,
      "outputs": []
    },
    {
      "cell_type": "code",
      "source": [
        "def help_count(sentence: str)->int:\n",
        "  list_sub_predicate = []\n",
        "  num_subj = 0\n",
        "  dictionary = {}\n",
        "  num_verb = 0\n",
        "  if (len(sentence) == 0):\n",
        "    return 0, {0:1}, 1, []\n",
        "  sentences = parser(sentence)\n",
        "  for sentence in sentences:\n",
        "    num_sub = 0\n",
        "    for word in sentence.words:\n",
        "        if word.dep_label == 'sub':\n",
        "          num_sub += 1\n",
        "        if word.pos_tag == 'V':\n",
        "          num_verb += 1\n",
        "    if num_sub > 0:\n",
        "      num_sub = 0\n",
        "      # cấu trúc câu tổng quát lúc này là S + V + Predicate(nếu có) + (từ nối/,)(nếu có) + mệnh đề 2 (nếu có) +...+ mệnh đề n (nếu có)\n",
        "      list_boundary = []\n",
        "      for child in sentence.root.children:\n",
        "        child_label = child.dep_label\n",
        "        if (child_label == 'punct') | (child_label == 'coord'):\n",
        "          list_boundary.append(child.index)\n",
        "      list_boundary = [i for i in list_boundary]\n",
        "      boundary = len(sentence.words) + 1\n",
        "      list_boundary.sort()\n",
        "      if len(list_boundary)>0:\n",
        "        boundary = list_boundary[0]\n",
        "      # print(f'list boundary: {list_boundary}')\n",
        "\n",
        "      # nếu trong mệnh đề đầu tiên nếu có chủ ngữ thì num_sub + 1\n",
        "      sen = []\n",
        "      list_sub = []\n",
        "      add = 0\n",
        "      for word in sentence.words[:boundary - 1]:\n",
        "        sen.append(word.text.replace('_', ' '))\n",
        "        if word.dep_label == 'sub':\n",
        "          list_sub.append(word.index)\n",
        "          add += 1\n",
        "      first_clause = ' '.join(sen)\n",
        "\n",
        "      # nếu câu không có thành phần ghép đẳng lập\n",
        "      if (add > 0) & (len(list_boundary) == 0):\n",
        "        # nếu câu có chủ ngữ nằm sau root chính (động từ hoặc tính từ) lúc này mô hình chạy đúng\n",
        "        if list_sub[0] < sentence.root.index:\n",
        "          # add to dictionary\n",
        "          if 1 in list(dictionary.keys()):\n",
        "            dictionary[1] += 1\n",
        "          else:\n",
        "            dictionary[1] = 1\n",
        "          # add to num_sub\n",
        "          num_sub += 1\n",
        "          bound_sub_pre_index = sentence.root.index\n",
        "          for child in sentence.root.children:\n",
        "            if (child.text == 'là') & (sentence.root.text != 'là'):\n",
        "              bound_sub_pre_index = child.index\n",
        "              break # should we break ???? #############\n",
        "          previous_word = sentence.words[bound_sub_pre_index - 2]\n",
        "          if previous_word.text.replace('_', ' ') in word_before_predicate:\n",
        "            predicate_list = sentence.words[bound_sub_pre_index - 2 : boundary - 1]\n",
        "            sub_list = sentence.words[:bound_sub_pre_index - 2]\n",
        "          else:\n",
        "            predicate_list = sentence.words[bound_sub_pre_index - 1: boundary - 1]\n",
        "            sub_list = sentence.words[:bound_sub_pre_index - 1]\n",
        "          list_sub_predicate.append(['Mệnh đề chính là: ' + ' '.join(sen) + ' || chủ ngữ là: ' + ' '.join([word.text.replace('_', ' ') for word in sub_list]) +\n",
        "                  ' || vị ngữ là: ' + ' '.join([word.text.replace('_', ' ')  for word in predicate_list])])\n",
        "          ## find extra clause in sub\n",
        "          sub_start = 0\n",
        "          for i, word in enumerate(sub_list):\n",
        "            if (word.pos_tag == 'N') | (word.pos_tag == 'Np') | (word.pos_tag == 'P'):\n",
        "              sub_start = i\n",
        "              break;\n",
        "          pre_start = 0\n",
        "          for i, word in enumerate(predicate_list):\n",
        "            if (word.pos_tag == 'N') | (word.pos_tag == 'Np') | (word.pos_tag == 'P'):\n",
        "              pre_start = i\n",
        "              break\n",
        "          extra_clause_sub_list = sub_list[sub_start:]\n",
        "          extra_clause_sub = ' '.join([word.text.replace('_', ' ') for word in extra_clause_sub_list])\n",
        "          extra_clause_pre_list = predicate_list[pre_start:]\n",
        "          extra_clause_pre = ' '.join([word.text.replace('_', ' ') for word in extra_clause_pre_list])\n",
        "          #print(extra_clause_sub) ################\n",
        "          result, dic, _, clause = help_count(extra_clause_sub)\n",
        "          list_sub_predicate += clause\n",
        "          num_sub += result\n",
        "          for key in dic:\n",
        "            if key != 0:\n",
        "              if (key+1) in dictionary:\n",
        "                dictionary[key+1] += dic[key]\n",
        "              else:\n",
        "                dictionary[key+1] = dic[key]\n",
        "          #print(extra_clause_pre) ################\n",
        "          result, dic, _, clause = help_count(extra_clause_pre)\n",
        "          list_sub_predicate += clause\n",
        "          num_sub += result\n",
        "          for key in dic:\n",
        "            if key != 0:\n",
        "              if (key+1) in dictionary:\n",
        "                dictionary[key+1] += dic[key]\n",
        "              else:\n",
        "                dictionary[key+1] = dic[key]\n",
        "        ## root nắm ở đầu câu thì duyệt để tìm chủ ngữ đầu trong câu sai đó đệ quy hàm lại cho cụm mới tìm được\n",
        "        else:\n",
        "          first_sub = list_sub[0]\n",
        "          sub_sentence = ' '.join([word.text.replace('_', ' ') for word in sentence.words[first_sub-1:boundary - 1]])\n",
        "          #print(sub_sentence) ###############\n",
        "          result, dic, _, clause = help_count(sub_sentence)\n",
        "          list_sub_predicate += clause\n",
        "          num_sub += result\n",
        "          for key in dic:\n",
        "            if key != 0:\n",
        "              if key in dictionary:\n",
        "                dictionary[key] += dic[key]\n",
        "              else:\n",
        "                dictionary[key] = dic[key]\n",
        "      # nếu câu không là câu đơn thì đề quy lại mệnh đề thứ nhất\n",
        "      else:\n",
        "        result, dic, _, clause = help_count(first_clause)\n",
        "        list_sub_predicate += clause\n",
        "        num_sub += result\n",
        "        for key in dic:\n",
        "          if key != 0:\n",
        "            if key in dictionary:\n",
        "              dictionary[key] += dic[key]\n",
        "            else:\n",
        "              dictionary[key] = dic[key]\n",
        "      \n",
        "      # nếu câu có từ nối hoặc dấu nối\n",
        "      if len(list_boundary)>0:\n",
        "        if len(list_sub) > 0:\n",
        "          first_sub = sentence.words[list_sub[0] - 1].text.replace('_', ' ')\n",
        "        else:\n",
        "          first_sub = ''\n",
        "        #print(f'boundary: {boundary}') ######################\n",
        "        # nếu câu là câu ghép cộng đệ quy những mệnh đề lại bằng hàm help_count\n",
        "        for i, bound in enumerate(list_boundary[:-1]):\n",
        "          if list_boundary[i] + 1 != list_boundary[i+1]:\n",
        "            start_idx = bound\n",
        "            end_idx = list_boundary[i+1] - 1\n",
        "            list_word_sentence = [word.text.replace('_', ' ') for word in sentence.words[start_idx: end_idx]]\n",
        "            string = ' '.join(list_word_sentence)\n",
        "            #print(f'mệnh đề khác: {string}') ################################\n",
        "            result, dic, _, clause = help_count(string)\n",
        "            ## nếu không tìm ra thì chủ ngữ có thể nằm trong câu trước đó\n",
        "            if result == 0:\n",
        "              result, dic, _, clause = help_count(first_sub + ' ' + string)\n",
        "            else:\n",
        "              # nếu tìm ra thì đổi first_sub thành chủ ngữ mởi trong câu\n",
        "              for word in sentence.words[start_idx: end_idx]:\n",
        "                if word.dep_label == 'sub':\n",
        "                  first_sub = word.text\n",
        "                  break\n",
        "            list_sub_predicate += clause\n",
        "            num_sub += result\n",
        "            for key in dic:\n",
        "              if key != 0:\n",
        "                if key in dictionary:\n",
        "                  dictionary[key] += dic[key]\n",
        "                else:\n",
        "                  dictionary[key] = dic[key]\n",
        "\n",
        "        if list_boundary[-1] < sentence.words[-1].index - 1:\n",
        "          start_idx = list_boundary[-1]\n",
        "          list_word_sentence = [word.text.replace('_', ' ') for word in sentence.words[start_idx:]]\n",
        "          string = ' '.join(list_word_sentence)\n",
        "          #print(f'mệnh đề khác: {string}') ####################\n",
        "          result, dic, _, clause = help_count(string)\n",
        "          if result == 0:\n",
        "            result, dic, _, clause = help_count(first_sub + ' ' + string)\n",
        "          list_sub_predicate += clause\n",
        "          num_sub += result\n",
        "          for key in dic:\n",
        "            if key != 0:\n",
        "              if key in dictionary:\n",
        "                dictionary[key] += dic[key]\n",
        "              else:\n",
        "                dictionary[key] = dic[key]\n",
        "\n",
        "    num_subj += num_sub\n",
        "  if num_subj == 0:\n",
        "    return 0, {0:1}, num_verb, []\n",
        "  else:\n",
        "    return num_subj, dictionary, num_verb, list_sub_predicate"
      ],
      "metadata": {
        "id": "s8wIyYzlLv1a"
      },
      "execution_count": null,
      "outputs": []
    },
    {
      "cell_type": "code",
      "source": [
        "def count(file_paths):\n",
        "  dictionary_degree = {}\n",
        "  dictionary_pair = {}\n",
        "  dictionary_verb = {}\n",
        "  list_pair_in_lines = []\n",
        "  # traversal throught folder\n",
        "  for path in file_paths:\n",
        "    with open(path, 'r') as f:\n",
        "      data = f.readlines()\n",
        "      for line in data:\n",
        "        num_pair, dic, num_verb, list_sub_predicate = help_count(line)\n",
        "        list_pair_in_lines.append(list_sub_predicate)\n",
        "        ## add to degree dictionary\n",
        "        for key in dic:\n",
        "          if key not in list(dictionary_degree.keys()):\n",
        "            dictionary_degree[key] = dic[key]\n",
        "          else:\n",
        "            dictionary_degree[key] += dic[key]\n",
        "        # add to pair dictionary\n",
        "        if num_pair not in list(dictionary_pair.keys()):\n",
        "          dictionary_pair[num_pair] = 1\n",
        "        else:\n",
        "          dictionary_pair[num_pair] += 1\n",
        "        # add to verb dictionary\n",
        "        if num_verb not in list(dictionary_verb.keys()):\n",
        "          dictionary_verb[num_verb] = 1\n",
        "        else:\n",
        "          dictionary_verb[num_verb] += 1\n",
        "\n",
        "  return dictionary_verb, dictionary_pair, dictionary_degree, list_pair_in_lines"
      ],
      "metadata": {
        "id": "RlK9HnLW5ulo"
      },
      "execution_count": null,
      "outputs": []
    },
    {
      "cell_type": "code",
      "source": [
        "os.chdir('/content')"
      ],
      "metadata": {
        "id": "juy6KOJxno0d"
      },
      "execution_count": null,
      "outputs": []
    },
    {
      "cell_type": "code",
      "source": [
        "with open('/content/train.txt', 'r') as f:\n",
        "  data1 = f.read()\n",
        "with open('/content/train.txt', 'r') as f:\n",
        "  data2 = f.read()\n",
        "with open('/content/valid.txt', 'r') as f:\n",
        "  data3 = f.read()\n",
        "\n",
        "data = data1 + '\\n' + data2 + '\\n' + data3\n",
        "with open('/content/data.txt', 'w') as f:\n",
        "  f.write(data)"
      ],
      "metadata": {
        "id": "xadLWoZwGFg_"
      },
      "execution_count": null,
      "outputs": []
    },
    {
      "cell_type": "markdown",
      "source": [
        "# Thử nghiệm"
      ],
      "metadata": {
        "id": "LFeK-Lhh6GXZ"
      }
    },
    {
      "cell_type": "code",
      "source": [
        "model.print_out(model.annotate(text=word_segment(\"Bài viết Giang vừa soạn\")))"
      ],
      "metadata": {
        "colab": {
          "base_uri": "https://localhost:8080/"
        },
        "id": "3a4zrXTeBO8A",
        "outputId": "d8609d98-a6b4-4604-a508-a2db5eb51b13"
      },
      "execution_count": null,
      "outputs": [
        {
          "output_type": "stream",
          "name": "stderr",
          "text": [
            "100%|██████████| 1/1 [00:00<00:00,  4.49it/s]"
          ]
        },
        {
          "output_type": "stream",
          "name": "stdout",
          "text": [
            "1\tBài\tN\tO\t0\troot\n",
            "2\tviết\tV\tO\t1\tnmod\n",
            "3\tGiang\tNp\tB-PER\t5\tsub\n",
            "4\tvừa\tR\tO\t5\tadv\n",
            "5\tsoạn\tV\tO\t1\tnmod\n"
          ]
        },
        {
          "output_type": "stream",
          "name": "stderr",
          "text": [
            "\n"
          ]
        }
      ]
    },
    {
      "cell_type": "code",
      "source": [
        "num_pair, dic_degree, num_verb, list_sub_predicate = help_count('Hắn cứ đi, cứ chửi, cứ dọa nạt, và cứ đi.')\n",
        "print()\n",
        "for pair in list_sub_predicate:\n",
        "  print(pair)\n",
        "print(f'the number of pair is {num_pair}')\n",
        "print(f'the degree of the sentence if {dic_degree}')\n",
        "print(f'the number of verb is {num_verb}')"
      ],
      "metadata": {
        "colab": {
          "base_uri": "https://localhost:8080/"
        },
        "id": "AXfVqey29hoV",
        "outputId": "e1f0af5e-5be5-4065-c7c4-685498389dbf"
      },
      "execution_count": null,
      "outputs": [
        {
          "output_type": "stream",
          "name": "stderr",
          "text": [
            "100%|██████████| 1/1 [00:00<00:00,  2.05it/s]\n",
            "100%|██████████| 1/1 [00:00<00:00,  3.06it/s]\n",
            "100%|██████████| 1/1 [00:00<00:00,  2.84it/s]\n",
            "100%|██████████| 1/1 [00:00<00:00,  2.99it/s]\n",
            "100%|██████████| 1/1 [00:00<00:00,  3.62it/s]\n",
            "100%|██████████| 1/1 [00:00<00:00,  3.29it/s]\n",
            "100%|██████████| 1/1 [00:00<00:00,  3.58it/s]\n",
            "100%|██████████| 1/1 [00:00<00:00,  2.38it/s]\n",
            "100%|██████████| 1/1 [00:00<00:00,  3.52it/s]\n",
            "100%|██████████| 1/1 [00:00<00:00,  3.61it/s]\n",
            "100%|██████████| 1/1 [00:00<00:00,  3.29it/s]\n",
            "100%|██████████| 1/1 [00:00<00:00,  3.14it/s]\n",
            "100%|██████████| 1/1 [00:00<00:00,  3.17it/s]\n",
            "100%|██████████| 1/1 [00:00<00:00,  3.28it/s]\n",
            "100%|██████████| 1/1 [00:00<00:00,  3.32it/s]\n",
            "100%|██████████| 1/1 [00:00<00:00,  3.17it/s]"
          ]
        },
        {
          "output_type": "stream",
          "name": "stdout",
          "text": [
            "\n",
            "['Mệnh đề chính là: Hắn cứ đi || chủ ngữ là: Hắn || vị ngữ là: cứ đi']\n",
            "['Mệnh đề chính là: Hắn cứ chửi || chủ ngữ là: Hắn || vị ngữ là: cứ chửi']\n",
            "['Mệnh đề chính là: Hắn cứ doạ nạt || chủ ngữ là: Hắn || vị ngữ là: cứ doạ nạt']\n",
            "['Mệnh đề chính là: Hắn cứ đi || chủ ngữ là: Hắn || vị ngữ là: cứ đi']\n",
            "the number of pair is 4\n",
            "the degree of the sentence if {1: 4}\n",
            "the number of verb is 4\n"
          ]
        },
        {
          "output_type": "stream",
          "name": "stderr",
          "text": [
            "\n"
          ]
        }
      ]
    },
    {
      "cell_type": "markdown",
      "source": [
        "# XUẤT FILE"
      ],
      "metadata": {
        "id": "qvqjw4eqFeUd"
      }
    },
    {
      "cell_type": "code",
      "source": [
        "verb_dic, sub_dic, degree_dic, list_pair_in_lines = count(['/content/data.txt'])"
      ],
      "metadata": {
        "id": "BimoZ-XT8yzx"
      },
      "execution_count": null,
      "outputs": []
    },
    {
      "cell_type": "code",
      "source": [
        "import json\n",
        "with open(\"CountVerbResult.json\", \"w\") as f:\n",
        "  json.dump(verb_dic, f)\n",
        "with open(\"CounSubPrePair.json\", \"w\") as f:\n",
        "  json.dump(verb_dic, f)\n",
        "with open(\"CountDegree.json\", \"w\") as f:\n",
        "  json.dump(verb_dic, f)"
      ],
      "metadata": {
        "id": "6iHhJxnI66SG"
      },
      "execution_count": null,
      "outputs": []
    },
    {
      "cell_type": "code",
      "source": [
        "with open('/content/data.txt', 'r') as f:\n",
        "  data = f.readlines()"
      ],
      "metadata": {
        "id": "4gMo8pxt7mVF"
      },
      "execution_count": null,
      "outputs": []
    },
    {
      "cell_type": "code",
      "source": [
        "for i, line in enumerate(data):\n",
        "  path = os.path.join('/content/result', f'{i:05}.txt')\n",
        "  with open(path, 'w') as f:\n",
        "    f.write(line + '\\n')\n",
        "    f.write('-------------------------\\n')\n",
        "    for clause in list_pair_in_lines[i]:\n",
        "      f.write(clause[0] + '\\n')"
      ],
      "metadata": {
        "id": "RYTUNcY58JRW"
      },
      "execution_count": null,
      "outputs": []
    },
    {
      "cell_type": "code",
      "source": [
        "!zip -r result.zip /content/result"
      ],
      "metadata": {
        "id": "n-_Z6i63BUKG"
      },
      "execution_count": null,
      "outputs": []
    },
    {
      "cell_type": "code",
      "source": [
        "import matplotlib.pyplot as plt\n",
        "plt.bar(verb_dic.keys(), verb_dic.values(), color = 'g')\n",
        "plt.title('Sô lần xuất hiện động từ trong câu')\n",
        "plt.xlabel('Số lần xuất hiện động từ trong câu')\n",
        "plt.xlabel('Sô câu')\n",
        "plt.savefig('Đếm động từ')\n",
        "plt.show()"
      ],
      "metadata": {
        "colab": {
          "base_uri": "https://localhost:8080/",
          "height": 296
        },
        "id": "MAMjBMxPHMoG",
        "outputId": "0f4c9cd3-5b9a-491d-fecb-bdfbf13b1364"
      },
      "execution_count": null,
      "outputs": [
        {
          "output_type": "display_data",
          "data": {
            "text/plain": [
              "<Figure size 432x288 with 1 Axes>"
            ],
            "image/png": "[encoded data removed]"
          },
          "metadata": {
            "needs_background": "light"
          }
        }
      ]
    },
    {
      "cell_type": "code",
      "source": [
        "plt.bar(sub_dic.keys(), sub_dic.values(), color = 'g')\n",
        "plt.title('Đém cập chủ vị trong câu')\n",
        "plt.xlabel('Số cặp chủ vị trong câu')\n",
        "plt.xlabel('Sô câu')\n",
        "plt.savefig('Đếm chủ vị')\n",
        "plt.show()"
      ],
      "metadata": {
        "colab": {
          "base_uri": "https://localhost:8080/",
          "height": 295
        },
        "id": "Wrbf8aTTH2IR",
        "outputId": "03270979-8b68-44b4-fdbf-820692b4a457"
      },
      "execution_count": null,
      "outputs": [
        {
          "output_type": "display_data",
          "data": {
            "text/plain": [
              "<Figure size 432x288 with 1 Axes>"
            ],
            "image/png": "[encoded data removed]"
          },
          "metadata": {
            "needs_background": "light"
          }
        }
      ]
    },
    {
      "cell_type": "code",
      "source": [
        "plt.bar(degree_dic.keys(), degree_dic.values(), color = 'g')\n",
        "plt.title('Đém cấp cặp chủ vị trong câu')\n",
        "plt.xlabel('Cấp của cặp chủ vị')\n",
        "plt.ylabel('Số cặp')\n",
        "plt.savefig('Đếm cấp chủ vị')\n",
        "plt.show()"
      ],
      "metadata": {
        "colab": {
          "base_uri": "https://localhost:8080/",
          "height": 297
        },
        "id": "7sHvGnfmINba",
        "outputId": "9cad18a2-8786-4ee7-884f-08bfe887de1b"
      },
      "execution_count": null,
      "outputs": [
        {
          "output_type": "display_data",
          "data": {
            "text/plain": [
              "<Figure size 432x288 with 1 Axes>"
            ],
            "image/png": "[encoded data removed]"
          },
          "metadata": {
            "needs_background": "light"
          }
        }
      ]
    },
    {
      "cell_type": "code",
      "source": [],
      "metadata": {
        "id": "LtHz2y-lId8q"
      },
      "execution_count": null,
      "outputs": []
    }
  ]
}